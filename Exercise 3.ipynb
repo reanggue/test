{
 "cells": [
  {
   "cell_type": "markdown",
   "metadata": {},
   "source": [
    "## Exercise 3 - All of Statistics Class"
   ]
  },
  {
   "cell_type": "markdown",
   "metadata": {},
   "source": [
    "Read csv data to R data frame:"
   ]
  },
  {
   "cell_type": "code",
   "execution_count": 1,
   "metadata": {
    "collapsed": true
   },
   "outputs": [],
   "source": [
    "data <- read.csv('housing.csv')"
   ]
  },
  {
   "cell_type": "markdown",
   "metadata": {},
   "source": [
    "Add Missing Value :"
   ]
  },
  {
   "cell_type": "code",
   "execution_count": 9,
   "metadata": {
    "collapsed": false
   },
   "outputs": [
    {
     "data": {
      "text/html": [
       "<dl class=dl-horizontal>\n",
       "\t<dt>MSSubClass</dt>\n",
       "\t\t<dd>0</dd>\n",
       "\t<dt>LotFrontage</dt>\n",
       "\t\t<dd>259</dd>\n",
       "\t<dt>LotArea</dt>\n",
       "\t\t<dd>0</dd>\n",
       "\t<dt>OverallQual</dt>\n",
       "\t\t<dd>0</dd>\n",
       "\t<dt>OverallCond</dt>\n",
       "\t\t<dd>0</dd>\n",
       "\t<dt>YearBuilt</dt>\n",
       "\t\t<dd>0</dd>\n",
       "\t<dt>YearRemodAdd</dt>\n",
       "\t\t<dd>0</dd>\n",
       "\t<dt>MasVnrArea</dt>\n",
       "\t\t<dd>8</dd>\n",
       "\t<dt>TotalBsmtSF</dt>\n",
       "\t\t<dd>0</dd>\n",
       "\t<dt>X1stFlrSF</dt>\n",
       "\t\t<dd>0</dd>\n",
       "\t<dt>X2ndFlrSF</dt>\n",
       "\t\t<dd>0</dd>\n",
       "\t<dt>GrLivArea</dt>\n",
       "\t\t<dd>0</dd>\n",
       "\t<dt>BedroomAbvGr</dt>\n",
       "\t\t<dd>0</dd>\n",
       "\t<dt>KitchenAbvGr</dt>\n",
       "\t\t<dd>0</dd>\n",
       "\t<dt>TotRmsAbvGrd</dt>\n",
       "\t\t<dd>0</dd>\n",
       "\t<dt>GarageArea</dt>\n",
       "\t\t<dd>0</dd>\n",
       "\t<dt>WoodDeckSF</dt>\n",
       "\t\t<dd>0</dd>\n",
       "\t<dt>OpenPorchSF</dt>\n",
       "\t\t<dd>0</dd>\n",
       "\t<dt>EnclosedPorch</dt>\n",
       "\t\t<dd>0</dd>\n",
       "\t<dt>X3SsnPorch</dt>\n",
       "\t\t<dd>0</dd>\n",
       "\t<dt>ScreenPorch</dt>\n",
       "\t\t<dd>0</dd>\n",
       "\t<dt>PoolArea</dt>\n",
       "\t\t<dd>0</dd>\n",
       "\t<dt>MoSold</dt>\n",
       "\t\t<dd>0</dd>\n",
       "\t<dt>YrSold</dt>\n",
       "\t\t<dd>0</dd>\n",
       "\t<dt>SalePrice</dt>\n",
       "\t\t<dd>0</dd>\n",
       "</dl>\n"
      ],
      "text/latex": [
       "\\begin{description*}\n",
       "\\item[MSSubClass] 0\n",
       "\\item[LotFrontage] 259\n",
       "\\item[LotArea] 0\n",
       "\\item[OverallQual] 0\n",
       "\\item[OverallCond] 0\n",
       "\\item[YearBuilt] 0\n",
       "\\item[YearRemodAdd] 0\n",
       "\\item[MasVnrArea] 8\n",
       "\\item[TotalBsmtSF] 0\n",
       "\\item[X1stFlrSF] 0\n",
       "\\item[X2ndFlrSF] 0\n",
       "\\item[GrLivArea] 0\n",
       "\\item[BedroomAbvGr] 0\n",
       "\\item[KitchenAbvGr] 0\n",
       "\\item[TotRmsAbvGrd] 0\n",
       "\\item[GarageArea] 0\n",
       "\\item[WoodDeckSF] 0\n",
       "\\item[OpenPorchSF] 0\n",
       "\\item[EnclosedPorch] 0\n",
       "\\item[X3SsnPorch] 0\n",
       "\\item[ScreenPorch] 0\n",
       "\\item[PoolArea] 0\n",
       "\\item[MoSold] 0\n",
       "\\item[YrSold] 0\n",
       "\\item[SalePrice] 0\n",
       "\\end{description*}\n"
      ],
      "text/markdown": [
       "MSSubClass\n",
       ":   0LotFrontage\n",
       ":   259LotArea\n",
       ":   0OverallQual\n",
       ":   0OverallCond\n",
       ":   0YearBuilt\n",
       ":   0YearRemodAdd\n",
       ":   0MasVnrArea\n",
       ":   8TotalBsmtSF\n",
       ":   0X1stFlrSF\n",
       ":   0X2ndFlrSF\n",
       ":   0GrLivArea\n",
       ":   0BedroomAbvGr\n",
       ":   0KitchenAbvGr\n",
       ":   0TotRmsAbvGrd\n",
       ":   0GarageArea\n",
       ":   0WoodDeckSF\n",
       ":   0OpenPorchSF\n",
       ":   0EnclosedPorch\n",
       ":   0X3SsnPorch\n",
       ":   0ScreenPorch\n",
       ":   0PoolArea\n",
       ":   0MoSold\n",
       ":   0YrSold\n",
       ":   0SalePrice\n",
       ":   0\n",
       "\n"
      ],
      "text/plain": [
       "   MSSubClass   LotFrontage       LotArea   OverallQual   OverallCond \n",
       "            0           259             0             0             0 \n",
       "    YearBuilt  YearRemodAdd    MasVnrArea   TotalBsmtSF     X1stFlrSF \n",
       "            0             0             8             0             0 \n",
       "    X2ndFlrSF     GrLivArea  BedroomAbvGr  KitchenAbvGr  TotRmsAbvGrd \n",
       "            0             0             0             0             0 \n",
       "   GarageArea    WoodDeckSF   OpenPorchSF EnclosedPorch    X3SsnPorch \n",
       "            0             0             0             0             0 \n",
       "  ScreenPorch      PoolArea        MoSold        YrSold     SalePrice \n",
       "            0             0             0             0             0 "
      ]
     },
     "metadata": {},
     "output_type": "display_data"
    }
   ],
   "source": [
    "colSums(is.na(data))\n",
    "## kolom yang memiliki NA adalah LotFrontage dan MasVnrArea"
   ]
  },
  {
   "cell_type": "code",
   "execution_count": 36,
   "metadata": {
    "collapsed": false
   },
   "outputs": [],
   "source": [
    "data$LotFrontage[is.na(data$LotFrontage)] <- median(data$LotFrontage, na.rm=TRUE)\n",
    "data$MasVnrArea[is.na(data$MasVnrArea)] <- median(data$MasVnrArea, na.rm=TRUE)"
   ]
  },
  {
   "cell_type": "markdown",
   "metadata": {},
   "source": [
    "Transform the response variable to logarithmic scale"
   ]
  },
  {
   "cell_type": "code",
   "execution_count": 20,
   "metadata": {
    "collapsed": false
   },
   "outputs": [],
   "source": [
    "logsale <- log(data$SalePrice)\n",
    "data$SalePrice <- logsale"
   ]
  },
  {
   "cell_type": "markdown",
   "metadata": {},
   "source": [
    "Standardize the predictors : (substract with mean and divide by 2 standard deviation"
   ]
  },
  {
   "cell_type": "code",
   "execution_count": 52,
   "metadata": {
    "collapsed": false
   },
   "outputs": [],
   "source": [
    "standardize_2sd <- function(x){\n",
    "    return ((x - mean(x))/(2*sd(x)))\n",
    "}"
   ]
  },
  {
   "cell_type": "code",
   "execution_count": 53,
   "metadata": {
    "collapsed": false
   },
   "outputs": [],
   "source": [
    "data_stdz <- as.data.frame(lapply(data, standardize_2sd))"
   ]
  },
  {
   "cell_type": "code",
   "execution_count": 55,
   "metadata": {
    "collapsed": true
   },
   "outputs": [],
   "source": [
    "data_stdz$SalePrice <- logsale"
   ]
  },
  {
   "cell_type": "code",
   "execution_count": 56,
   "metadata": {
    "collapsed": false
   },
   "outputs": [
    {
     "data": {
      "text/html": [
       "<table>\n",
       "<thead><tr><th scope=col>MSSubClass</th><th scope=col>LotFrontage</th><th scope=col>LotArea</th><th scope=col>OverallQual</th><th scope=col>OverallCond</th><th scope=col>YearBuilt</th><th scope=col>YearRemodAdd</th><th scope=col>MasVnrArea</th><th scope=col>TotalBsmtSF</th><th scope=col>X1stFlrSF</th><th scope=col>...</th><th scope=col>GarageArea</th><th scope=col>WoodDeckSF</th><th scope=col>OpenPorchSF</th><th scope=col>EnclosedPorch</th><th scope=col>X3SsnPorch</th><th scope=col>ScreenPorch</th><th scope=col>PoolArea</th><th scope=col>MoSold</th><th scope=col>YrSold</th><th scope=col>SalePrice</th></tr></thead>\n",
       "<tbody>\n",
       "\t<tr><td> 0.03667492</td><td>-0.11039972</td><td>-0.10353538</td><td> 0.32562805</td><td>-0.2585113 </td><td> 0.52531690</td><td> 0.4391836 </td><td> 0.2569639 </td><td>-0.22957261</td><td>-0.39658101</td><td>...        </td><td> 0.17544005</td><td>-0.3759591 </td><td> 0.10821450</td><td>-0.1796009 </td><td>-0.05814972</td><td>-0.1350579 </td><td>-0.03433411</td><td>-0.7992817 </td><td> 0.06936498</td><td>12.24769   </td></tr>\n",
       "\t<tr><td>-0.43613194</td><td> 0.23008103</td><td>-0.04592745</td><td>-0.03590575</td><td> 1.0894406 </td><td> 0.07834001</td><td>-0.2147149 </td><td>-0.2852773 </td><td> 0.23315257</td><td> 0.12852618</td><td>...        </td><td>-0.03035511</td><td> 0.8128189 </td><td>-0.35212097</td><td>-0.1796009 </td><td>-0.05814972</td><td>-0.1350579 </td><td>-0.03433411</td><td>-0.2444713 </td><td>-0.30711408</td><td>12.10901   </td></tr>\n",
       "\t<tr><td> 0.03667492</td><td>-0.04230357</td><td> 0.03672740</td><td> 0.32562805</td><td>-0.2585113 </td><td> 0.49220750</td><td> 0.4149651 </td><td> 0.1629016 </td><td>-0.15663071</td><td>-0.31380549</td><td>...        </td><td> 0.31575492</td><td>-0.3759591 </td><td>-0.03516868</td><td>-0.1796009 </td><td>-0.05814972</td><td>-0.1350579 </td><td>-0.03433411</td><td> 0.4952760 </td><td> 0.06936498</td><td>12.31717   </td></tr>\n",
       "\t<tr><td> 0.15487663</td><td>-0.22389330</td><td>-0.04843214</td><td> 0.32562805</td><td>-0.2585113 </td><td>-0.93149666</td><td>-0.3600257 </td><td>-0.2852773 </td><td>-0.34354433</td><td>-0.26077743</td><td>...        </td><td> 0.39526669</td><td>-0.3759591 </td><td>-0.08799406</td><td> 2.0455610 </td><td>-0.05814972</td><td>-0.1350579 </td><td>-0.03433411</td><td>-0.7992817 </td><td>-0.68359314</td><td>11.84940   </td></tr>\n",
       "\t<tr><td> 0.03667492</td><td> 0.32087590</td><td> 0.18750990</td><td> 0.68716185</td><td>-0.2585113 </td><td> 0.47565280</td><td> 0.3665282 </td><td> 0.6830106 </td><td> 0.09980566</td><td>-0.02279782</td><td>...        </td><td> 0.84895146</td><td> 0.3899650 </td><td> 0.28178362</td><td>-0.1796009 </td><td>-0.05814972</td><td>-0.1350579 </td><td>-0.03433411</td><td> 1.0500864 </td><td> 0.06936498</td><td>12.42922   </td></tr>\n",
       "\t<tr><td>-0.08152680</td><td> 0.34357462</td><td> 0.18024629</td><td>-0.39743956</td><td>-0.2585113 </td><td> 0.35976990</td><td> 0.2454359 </td><td>-0.2852773 </td><td>-0.29795564</td><td>-0.47418306</td><td>...        </td><td> 0.01641652</td><td>-0.2163916 </td><td>-0.12572648</td><td>-0.1796009 </td><td> 5.39937308</td><td>-0.1350579 </td><td>-0.03433411</td><td> 0.6802128 </td><td> 0.44584404</td><td>11.87060   </td></tr>\n",
       "</tbody>\n",
       "</table>\n"
      ],
      "text/latex": [
       "\\begin{tabular}{r|lllllllllllllllllllllllll}\n",
       " MSSubClass & LotFrontage & LotArea & OverallQual & OverallCond & YearBuilt & YearRemodAdd & MasVnrArea & TotalBsmtSF & X1stFlrSF & ... & GarageArea & WoodDeckSF & OpenPorchSF & EnclosedPorch & X3SsnPorch & ScreenPorch & PoolArea & MoSold & YrSold & SalePrice\\\\\n",
       "\\hline\n",
       "\t  0.03667492 & -0.11039972 & -0.10353538 &  0.32562805 & -0.2585113  &  0.52531690 &  0.4391836  &  0.2569639  & -0.22957261 & -0.39658101 & ...         &  0.17544005 & -0.3759591  &  0.10821450 & -0.1796009  & -0.05814972 & -0.1350579  & -0.03433411 & -0.7992817  &  0.06936498 & 12.24769   \\\\\n",
       "\t -0.43613194 &  0.23008103 & -0.04592745 & -0.03590575 &  1.0894406  &  0.07834001 & -0.2147149  & -0.2852773  &  0.23315257 &  0.12852618 & ...         & -0.03035511 &  0.8128189  & -0.35212097 & -0.1796009  & -0.05814972 & -0.1350579  & -0.03433411 & -0.2444713  & -0.30711408 & 12.10901   \\\\\n",
       "\t  0.03667492 & -0.04230357 &  0.03672740 &  0.32562805 & -0.2585113  &  0.49220750 &  0.4149651  &  0.1629016  & -0.15663071 & -0.31380549 & ...         &  0.31575492 & -0.3759591  & -0.03516868 & -0.1796009  & -0.05814972 & -0.1350579  & -0.03433411 &  0.4952760  &  0.06936498 & 12.31717   \\\\\n",
       "\t  0.15487663 & -0.22389330 & -0.04843214 &  0.32562805 & -0.2585113  & -0.93149666 & -0.3600257  & -0.2852773  & -0.34354433 & -0.26077743 & ...         &  0.39526669 & -0.3759591  & -0.08799406 &  2.0455610  & -0.05814972 & -0.1350579  & -0.03433411 & -0.7992817  & -0.68359314 & 11.84940   \\\\\n",
       "\t  0.03667492 &  0.32087590 &  0.18750990 &  0.68716185 & -0.2585113  &  0.47565280 &  0.3665282  &  0.6830106  &  0.09980566 & -0.02279782 & ...         &  0.84895146 &  0.3899650  &  0.28178362 & -0.1796009  & -0.05814972 & -0.1350579  & -0.03433411 &  1.0500864  &  0.06936498 & 12.42922   \\\\\n",
       "\t -0.08152680 &  0.34357462 &  0.18024629 & -0.39743956 & -0.2585113  &  0.35976990 &  0.2454359  & -0.2852773  & -0.29795564 & -0.47418306 & ...         &  0.01641652 & -0.2163916  & -0.12572648 & -0.1796009  &  5.39937308 & -0.1350579  & -0.03433411 &  0.6802128  &  0.44584404 & 11.87060   \\\\\n",
       "\\end{tabular}\n"
      ],
      "text/markdown": [
       "\n",
       "MSSubClass | LotFrontage | LotArea | OverallQual | OverallCond | YearBuilt | YearRemodAdd | MasVnrArea | TotalBsmtSF | X1stFlrSF | ... | GarageArea | WoodDeckSF | OpenPorchSF | EnclosedPorch | X3SsnPorch | ScreenPorch | PoolArea | MoSold | YrSold | SalePrice | \n",
       "|---|---|---|---|---|---|\n",
       "|  0.03667492 | -0.11039972 | -0.10353538 |  0.32562805 | -0.2585113  |  0.52531690 |  0.4391836  |  0.2569639  | -0.22957261 | -0.39658101 | ...         |  0.17544005 | -0.3759591  |  0.10821450 | -0.1796009  | -0.05814972 | -0.1350579  | -0.03433411 | -0.7992817  |  0.06936498 | 12.24769    | \n",
       "| -0.43613194 |  0.23008103 | -0.04592745 | -0.03590575 |  1.0894406  |  0.07834001 | -0.2147149  | -0.2852773  |  0.23315257 |  0.12852618 | ...         | -0.03035511 |  0.8128189  | -0.35212097 | -0.1796009  | -0.05814972 | -0.1350579  | -0.03433411 | -0.2444713  | -0.30711408 | 12.10901    | \n",
       "|  0.03667492 | -0.04230357 |  0.03672740 |  0.32562805 | -0.2585113  |  0.49220750 |  0.4149651  |  0.1629016  | -0.15663071 | -0.31380549 | ...         |  0.31575492 | -0.3759591  | -0.03516868 | -0.1796009  | -0.05814972 | -0.1350579  | -0.03433411 |  0.4952760  |  0.06936498 | 12.31717    | \n",
       "|  0.15487663 | -0.22389330 | -0.04843214 |  0.32562805 | -0.2585113  | -0.93149666 | -0.3600257  | -0.2852773  | -0.34354433 | -0.26077743 | ...         |  0.39526669 | -0.3759591  | -0.08799406 |  2.0455610  | -0.05814972 | -0.1350579  | -0.03433411 | -0.7992817  | -0.68359314 | 11.84940    | \n",
       "|  0.03667492 |  0.32087590 |  0.18750990 |  0.68716185 | -0.2585113  |  0.47565280 |  0.3665282  |  0.6830106  |  0.09980566 | -0.02279782 | ...         |  0.84895146 |  0.3899650  |  0.28178362 | -0.1796009  | -0.05814972 | -0.1350579  | -0.03433411 |  1.0500864  |  0.06936498 | 12.42922    | \n",
       "| -0.08152680 |  0.34357462 |  0.18024629 | -0.39743956 | -0.2585113  |  0.35976990 |  0.2454359  | -0.2852773  | -0.29795564 | -0.47418306 | ...         |  0.01641652 | -0.2163916  | -0.12572648 | -0.1796009  |  5.39937308 | -0.1350579  | -0.03433411 |  0.6802128  |  0.44584404 | 11.87060    | \n",
       "\n",
       "\n"
      ],
      "text/plain": [
       "  MSSubClass  LotFrontage LotArea     OverallQual OverallCond YearBuilt  \n",
       "1  0.03667492 -0.11039972 -0.10353538  0.32562805 -0.2585113   0.52531690\n",
       "2 -0.43613194  0.23008103 -0.04592745 -0.03590575  1.0894406   0.07834001\n",
       "3  0.03667492 -0.04230357  0.03672740  0.32562805 -0.2585113   0.49220750\n",
       "4  0.15487663 -0.22389330 -0.04843214  0.32562805 -0.2585113  -0.93149666\n",
       "5  0.03667492  0.32087590  0.18750990  0.68716185 -0.2585113   0.47565280\n",
       "6 -0.08152680  0.34357462  0.18024629 -0.39743956 -0.2585113   0.35976990\n",
       "  YearRemodAdd MasVnrArea TotalBsmtSF X1stFlrSF   ... GarageArea  WoodDeckSF\n",
       "1  0.4391836    0.2569639 -0.22957261 -0.39658101 ...  0.17544005 -0.3759591\n",
       "2 -0.2147149   -0.2852773  0.23315257  0.12852618 ... -0.03035511  0.8128189\n",
       "3  0.4149651    0.1629016 -0.15663071 -0.31380549 ...  0.31575492 -0.3759591\n",
       "4 -0.3600257   -0.2852773 -0.34354433 -0.26077743 ...  0.39526669 -0.3759591\n",
       "5  0.3665282    0.6830106  0.09980566 -0.02279782 ...  0.84895146  0.3899650\n",
       "6  0.2454359   -0.2852773 -0.29795564 -0.47418306 ...  0.01641652 -0.2163916\n",
       "  OpenPorchSF EnclosedPorch X3SsnPorch  ScreenPorch PoolArea    MoSold    \n",
       "1  0.10821450 -0.1796009    -0.05814972 -0.1350579  -0.03433411 -0.7992817\n",
       "2 -0.35212097 -0.1796009    -0.05814972 -0.1350579  -0.03433411 -0.2444713\n",
       "3 -0.03516868 -0.1796009    -0.05814972 -0.1350579  -0.03433411  0.4952760\n",
       "4 -0.08799406  2.0455610    -0.05814972 -0.1350579  -0.03433411 -0.7992817\n",
       "5  0.28178362 -0.1796009    -0.05814972 -0.1350579  -0.03433411  1.0500864\n",
       "6 -0.12572648 -0.1796009     5.39937308 -0.1350579  -0.03433411  0.6802128\n",
       "  YrSold      SalePrice\n",
       "1  0.06936498 12.24769 \n",
       "2 -0.30711408 12.10901 \n",
       "3  0.06936498 12.31717 \n",
       "4 -0.68359314 11.84940 \n",
       "5  0.06936498 12.42922 \n",
       "6  0.44584404 11.87060 "
      ]
     },
     "metadata": {},
     "output_type": "display_data"
    }
   ],
   "source": [
    "head(data_stdz)"
   ]
  },
  {
   "cell_type": "code",
   "execution_count": null,
   "metadata": {
    "collapsed": true
   },
   "outputs": [],
   "source": []
  },
  {
   "cell_type": "markdown",
   "metadata": {},
   "source": [
    "Create linear regression model with all predictors"
   ]
  },
  {
   "cell_type": "code",
   "execution_count": 92,
   "metadata": {
    "collapsed": false
   },
   "outputs": [],
   "source": [
    "model <- lm(\"SalePrice ~ .\", data = data_stdz)"
   ]
  },
  {
   "cell_type": "code",
   "execution_count": 93,
   "metadata": {
    "collapsed": false
   },
   "outputs": [
    {
     "data": {
      "text/plain": [
       "\n",
       "Call:\n",
       "lm(formula = \"SalePrice ~ .\", data = data_stdz)\n",
       "\n",
       "Residuals:\n",
       "     Min       1Q   Median       3Q      Max \n",
       "-2.11715 -0.06900  0.00510  0.08144  0.51917 \n",
       "\n",
       "Coefficients:\n",
       "                Estimate Std. Error  t value Pr(>|t|)    \n",
       "(Intercept)   12.0240509  0.0040522 2967.269  < 2e-16 ***\n",
       "MSSubClass    -0.0399509  0.0103008   -3.878 0.000110 ***\n",
       "LotFrontage   -0.0048222  0.0100932   -0.478 0.632886    \n",
       "LotArea        0.0554297  0.0088997    6.228 6.18e-10 ***\n",
       "OverallQual    0.2445025  0.0141816   17.241  < 2e-16 ***\n",
       "OverallCond    0.1126039  0.0099423   11.326  < 2e-16 ***\n",
       "YearBuilt      0.2165833  0.0149243   14.512  < 2e-16 ***\n",
       "YearRemodAdd   0.0409423  0.0118012    3.469 0.000537 ***\n",
       "MasVnrArea     0.0005037  0.0094491    0.053 0.957491    \n",
       "TotalBsmtSF    0.0607630  0.0155777    3.901 0.000100 ***\n",
       "X1stFlrSF      0.1047274  0.0688949    1.520 0.128705    \n",
       "X2ndFlrSF      0.0843627  0.0763391    1.105 0.269299    \n",
       "GrLivArea      0.1258517  0.0920679    1.367 0.171857    \n",
       "BedroomAbvGr  -0.0149057  0.0120269   -1.239 0.215411    \n",
       "KitchenAbvGr  -0.0275250  0.0099526   -2.766 0.005754 ** \n",
       "TotRmsAbvGrd   0.0565158  0.0177811    3.178 0.001512 ** \n",
       "GarageArea     0.0891679  0.0110306    8.084 1.32e-15 ***\n",
       "WoodDeckSF     0.0432832  0.0088273    4.903 1.05e-06 ***\n",
       "OpenPorchSF   -0.0048435  0.0088765   -0.546 0.585392    \n",
       "EnclosedPorch  0.0233261  0.0091504    2.549 0.010901 *  \n",
       "X3SsnPorch     0.0136887  0.0081847    1.672 0.094647 .  \n",
       "ScreenPorch    0.0522997  0.0083969    6.228 6.17e-10 ***\n",
       "PoolArea      -0.0311613  0.0084662   -3.681 0.000241 ***\n",
       "MoSold         0.0033838  0.0082925    0.408 0.683297    \n",
       "YrSold        -0.0156894  0.0082780   -1.895 0.058250 .  \n",
       "---\n",
       "Signif. codes:  0 '***' 0.001 '**' 0.01 '*' 0.05 '.' 0.1 ' ' 1\n",
       "\n",
       "Residual standard error: 0.1548 on 1435 degrees of freedom\n",
       "Multiple R-squared:  0.8522,\tAdjusted R-squared:  0.8498 \n",
       "F-statistic: 344.8 on 24 and 1435 DF,  p-value: < 2.2e-16\n"
      ]
     },
     "metadata": {},
     "output_type": "display_data"
    }
   ],
   "source": [
    "summary(model)"
   ]
  },
  {
   "cell_type": "code",
   "execution_count": 173,
   "metadata": {
    "collapsed": false
   },
   "outputs": [
    {
     "data": {
      "text/html": [
       "0.849750987760786"
      ],
      "text/latex": [
       "0.849750987760786"
      ],
      "text/markdown": [
       "0.849750987760786"
      ],
      "text/plain": [
       "[1] 0.849751"
      ]
     },
     "metadata": {},
     "output_type": "display_data"
    }
   ],
   "source": [
    "coba <- summary(model)\n",
    "coba$adj.r.squared"
   ]
  },
  {
   "cell_type": "markdown",
   "metadata": {},
   "source": [
    "Interpret the coefficient of linear regression model"
   ]
  },
  {
   "cell_type": "code",
   "execution_count": 94,
   "metadata": {
    "collapsed": false
   },
   "outputs": [
    {
     "data": {
      "text/html": [
       "12.0240509011094"
      ],
      "text/latex": [
       "12.0240509011094"
      ],
      "text/markdown": [
       "12.0240509011094"
      ],
      "text/plain": [
       "[1] 12.02405"
      ]
     },
     "metadata": {},
     "output_type": "display_data"
    }
   ],
   "source": [
    "summary(model)$coef[1]"
   ]
  },
  {
   "cell_type": "markdown",
   "metadata": {},
   "source": [
    "### Model with Best Subset selection\n",
    "Reduce the predictors with best subset selection. Choose one model which has minimum cross validation error"
   ]
  },
  {
   "cell_type": "code",
   "execution_count": 80,
   "metadata": {
    "collapsed": false
   },
   "outputs": [
    {
     "name": "stderr",
     "output_type": "stream",
     "text": [
      "Warning message:\n",
      "\"package 'leaps' was built under R version 3.3.3\""
     ]
    }
   ],
   "source": [
    "library(leaps)\n",
    "## conda install r-leaps"
   ]
  },
  {
   "cell_type": "code",
   "execution_count": 95,
   "metadata": {
    "collapsed": true
   },
   "outputs": [],
   "source": [
    "predict.regsubset = function(object, newdata, id){\n",
    "    form = as.formula(object$call[[2]])\n",
    "    mat = model.matrix(form, newdata)\n",
    "    coefi = coef(object, id = id)\n",
    "    xvar = names(coefi)\n",
    "    mat[, xvar] %*% coefi\n",
    "}"
   ]
  },
  {
   "cell_type": "code",
   "execution_count": 97,
   "metadata": {
    "collapsed": false
   },
   "outputs": [],
   "source": [
    "k = 10\n",
    "set.seed(10)\n",
    "folds = sample(1:k, nrow(data_stdz), replace = TRUE)\n",
    "cv.error = matrix(NA, k, 24, dimnames = list(NULL, paste (1:24)))"
   ]
  },
  {
   "cell_type": "code",
   "execution_count": 105,
   "metadata": {
    "collapsed": true
   },
   "outputs": [],
   "source": [
    "for(j in 1:k){\n",
    "    regfit.best = regsubsets(SalePrice ~ ., data = data_stdz[folds != j,], \n",
    "                             nvmax =24)\n",
    "    for (i in 1:24){\n",
    "        pred = predict.regsubset(regfit.best, data_stdz[folds == j,], id = i)\n",
    "        cv.error[j, i] = mean((data_stdz$SalePrice[folds == j] - pred)^2)\n",
    "    }\n",
    "}"
   ]
  },
  {
   "cell_type": "code",
   "execution_count": 122,
   "metadata": {
    "collapsed": false
   },
   "outputs": [
    {
     "data": {
      "text/html": [
       "<strong>8:</strong> 8"
      ],
      "text/latex": [
       "\\textbf{8:} 8"
      ],
      "text/markdown": [
       "**8:** 8"
      ],
      "text/plain": [
       "8 \n",
       "8 "
      ]
     },
     "metadata": {},
     "output_type": "display_data"
    },
    {
     "data": {
      "text/html": [
       "0.0266124561892763"
      ],
      "text/latex": [
       "0.0266124561892763"
      ],
      "text/markdown": [
       "0.0266124561892763"
      ],
      "text/plain": [
       "[1] 0.02661246"
      ]
     },
     "metadata": {},
     "output_type": "display_data"
    }
   ],
   "source": [
    "which.min(colMeans(cv.error))\n",
    "min(colMeans(cv.error))"
   ]
  },
  {
   "cell_type": "code",
   "execution_count": 110,
   "metadata": {
    "collapsed": false
   },
   "outputs": [
    {
     "data": {
      "text/html": [
       "<ol class=list-inline>\n",
       "\t<li>'(Intercept)'</li>\n",
       "\t<li>'MSSubClass'</li>\n",
       "\t<li>'LotArea'</li>\n",
       "\t<li>'OverallQual'</li>\n",
       "\t<li>'OverallCond'</li>\n",
       "\t<li>'YearBuilt'</li>\n",
       "\t<li>'TotalBsmtSF'</li>\n",
       "\t<li>'GrLivArea'</li>\n",
       "\t<li>'GarageArea'</li>\n",
       "</ol>\n"
      ],
      "text/latex": [
       "\\begin{enumerate*}\n",
       "\\item '(Intercept)'\n",
       "\\item 'MSSubClass'\n",
       "\\item 'LotArea'\n",
       "\\item 'OverallQual'\n",
       "\\item 'OverallCond'\n",
       "\\item 'YearBuilt'\n",
       "\\item 'TotalBsmtSF'\n",
       "\\item 'GrLivArea'\n",
       "\\item 'GarageArea'\n",
       "\\end{enumerate*}\n"
      ],
      "text/markdown": [
       "1. '(Intercept)'\n",
       "2. 'MSSubClass'\n",
       "3. 'LotArea'\n",
       "4. 'OverallQual'\n",
       "5. 'OverallCond'\n",
       "6. 'YearBuilt'\n",
       "7. 'TotalBsmtSF'\n",
       "8. 'GrLivArea'\n",
       "9. 'GarageArea'\n",
       "\n",
       "\n"
      ],
      "text/plain": [
       "[1] \"(Intercept)\" \"MSSubClass\"  \"LotArea\"     \"OverallQual\" \"OverallCond\"\n",
       "[6] \"YearBuilt\"   \"TotalBsmtSF\" \"GrLivArea\"   \"GarageArea\" "
      ]
     },
     "metadata": {},
     "output_type": "display_data"
    }
   ],
   "source": [
    "names(coef(regfit.best, 8))"
   ]
  },
  {
   "cell_type": "markdown",
   "metadata": {},
   "source": [
    "### Model with Forward Selection\n",
    "Reduce the predictors with forward selection. Choose one model which has minimum cross validation error"
   ]
  },
  {
   "cell_type": "code",
   "execution_count": 123,
   "metadata": {
    "collapsed": true
   },
   "outputs": [],
   "source": [
    "regfit.fwd = regsubsets(SalePrice ~ ., data = data_stdz, method = \"forward\", nvmax =26)\n",
    "regfitfwd.summary <- summary(regfit.fwd)"
   ]
  },
  {
   "cell_type": "code",
   "execution_count": 124,
   "metadata": {
    "collapsed": false,
    "scrolled": false
   },
   "outputs": [
    {
     "data": {
      "text/plain": [
       "Subset selection object\n",
       "Call: regsubsets.formula(SalePrice ~ ., data = data_stdz, method = \"forward\", \n",
       "    nvmax = 26)\n",
       "24 Variables  (and intercept)\n",
       "              Forced in Forced out\n",
       "MSSubClass        FALSE      FALSE\n",
       "LotFrontage       FALSE      FALSE\n",
       "LotArea           FALSE      FALSE\n",
       "OverallQual       FALSE      FALSE\n",
       "OverallCond       FALSE      FALSE\n",
       "YearBuilt         FALSE      FALSE\n",
       "YearRemodAdd      FALSE      FALSE\n",
       "MasVnrArea        FALSE      FALSE\n",
       "TotalBsmtSF       FALSE      FALSE\n",
       "X1stFlrSF         FALSE      FALSE\n",
       "X2ndFlrSF         FALSE      FALSE\n",
       "GrLivArea         FALSE      FALSE\n",
       "BedroomAbvGr      FALSE      FALSE\n",
       "KitchenAbvGr      FALSE      FALSE\n",
       "TotRmsAbvGrd      FALSE      FALSE\n",
       "GarageArea        FALSE      FALSE\n",
       "WoodDeckSF        FALSE      FALSE\n",
       "OpenPorchSF       FALSE      FALSE\n",
       "EnclosedPorch     FALSE      FALSE\n",
       "X3SsnPorch        FALSE      FALSE\n",
       "ScreenPorch       FALSE      FALSE\n",
       "PoolArea          FALSE      FALSE\n",
       "MoSold            FALSE      FALSE\n",
       "YrSold            FALSE      FALSE\n",
       "1 subsets of each size up to 24\n",
       "Selection Algorithm: forward\n",
       "          MSSubClass LotFrontage LotArea OverallQual OverallCond YearBuilt\n",
       "1  ( 1 )  \" \"        \" \"         \" \"     \"*\"         \" \"         \" \"      \n",
       "2  ( 1 )  \" \"        \" \"         \" \"     \"*\"         \" \"         \" \"      \n",
       "3  ( 1 )  \" \"        \" \"         \" \"     \"*\"         \" \"         \"*\"      \n",
       "4  ( 1 )  \" \"        \" \"         \" \"     \"*\"         \"*\"         \"*\"      \n",
       "5  ( 1 )  \" \"        \" \"         \" \"     \"*\"         \"*\"         \"*\"      \n",
       "6  ( 1 )  \" \"        \" \"         \" \"     \"*\"         \"*\"         \"*\"      \n",
       "7  ( 1 )  \" \"        \" \"         \"*\"     \"*\"         \"*\"         \"*\"      \n",
       "8  ( 1 )  \"*\"        \" \"         \"*\"     \"*\"         \"*\"         \"*\"      \n",
       "9  ( 1 )  \"*\"        \" \"         \"*\"     \"*\"         \"*\"         \"*\"      \n",
       "10  ( 1 ) \"*\"        \" \"         \"*\"     \"*\"         \"*\"         \"*\"      \n",
       "11  ( 1 ) \"*\"        \" \"         \"*\"     \"*\"         \"*\"         \"*\"      \n",
       "12  ( 1 ) \"*\"        \" \"         \"*\"     \"*\"         \"*\"         \"*\"      \n",
       "13  ( 1 ) \"*\"        \" \"         \"*\"     \"*\"         \"*\"         \"*\"      \n",
       "14  ( 1 ) \"*\"        \" \"         \"*\"     \"*\"         \"*\"         \"*\"      \n",
       "15  ( 1 ) \"*\"        \" \"         \"*\"     \"*\"         \"*\"         \"*\"      \n",
       "16  ( 1 ) \"*\"        \" \"         \"*\"     \"*\"         \"*\"         \"*\"      \n",
       "17  ( 1 ) \"*\"        \" \"         \"*\"     \"*\"         \"*\"         \"*\"      \n",
       "18  ( 1 ) \"*\"        \" \"         \"*\"     \"*\"         \"*\"         \"*\"      \n",
       "19  ( 1 ) \"*\"        \" \"         \"*\"     \"*\"         \"*\"         \"*\"      \n",
       "20  ( 1 ) \"*\"        \" \"         \"*\"     \"*\"         \"*\"         \"*\"      \n",
       "21  ( 1 ) \"*\"        \" \"         \"*\"     \"*\"         \"*\"         \"*\"      \n",
       "22  ( 1 ) \"*\"        \"*\"         \"*\"     \"*\"         \"*\"         \"*\"      \n",
       "23  ( 1 ) \"*\"        \"*\"         \"*\"     \"*\"         \"*\"         \"*\"      \n",
       "24  ( 1 ) \"*\"        \"*\"         \"*\"     \"*\"         \"*\"         \"*\"      \n",
       "          YearRemodAdd MasVnrArea TotalBsmtSF X1stFlrSF X2ndFlrSF GrLivArea\n",
       "1  ( 1 )  \" \"          \" \"        \" \"         \" \"       \" \"       \" \"      \n",
       "2  ( 1 )  \" \"          \" \"        \" \"         \" \"       \" \"       \"*\"      \n",
       "3  ( 1 )  \" \"          \" \"        \" \"         \" \"       \" \"       \"*\"      \n",
       "4  ( 1 )  \" \"          \" \"        \" \"         \" \"       \" \"       \"*\"      \n",
       "5  ( 1 )  \" \"          \" \"        \"*\"         \" \"       \" \"       \"*\"      \n",
       "6  ( 1 )  \" \"          \" \"        \"*\"         \" \"       \" \"       \"*\"      \n",
       "7  ( 1 )  \" \"          \" \"        \"*\"         \" \"       \" \"       \"*\"      \n",
       "8  ( 1 )  \" \"          \" \"        \"*\"         \" \"       \" \"       \"*\"      \n",
       "9  ( 1 )  \" \"          \" \"        \"*\"         \" \"       \" \"       \"*\"      \n",
       "10  ( 1 ) \" \"          \" \"        \"*\"         \" \"       \" \"       \"*\"      \n",
       "11  ( 1 ) \" \"          \" \"        \"*\"         \" \"       \" \"       \"*\"      \n",
       "12  ( 1 ) \"*\"          \" \"        \"*\"         \" \"       \" \"       \"*\"      \n",
       "13  ( 1 ) \"*\"          \" \"        \"*\"         \" \"       \" \"       \"*\"      \n",
       "14  ( 1 ) \"*\"          \" \"        \"*\"         \" \"       \" \"       \"*\"      \n",
       "15  ( 1 ) \"*\"          \" \"        \"*\"         \" \"       \" \"       \"*\"      \n",
       "16  ( 1 ) \"*\"          \" \"        \"*\"         \"*\"       \" \"       \"*\"      \n",
       "17  ( 1 ) \"*\"          \" \"        \"*\"         \"*\"       \" \"       \"*\"      \n",
       "18  ( 1 ) \"*\"          \" \"        \"*\"         \"*\"       \" \"       \"*\"      \n",
       "19  ( 1 ) \"*\"          \" \"        \"*\"         \"*\"       \" \"       \"*\"      \n",
       "20  ( 1 ) \"*\"          \" \"        \"*\"         \"*\"       \"*\"       \"*\"      \n",
       "21  ( 1 ) \"*\"          \" \"        \"*\"         \"*\"       \"*\"       \"*\"      \n",
       "22  ( 1 ) \"*\"          \" \"        \"*\"         \"*\"       \"*\"       \"*\"      \n",
       "23  ( 1 ) \"*\"          \" \"        \"*\"         \"*\"       \"*\"       \"*\"      \n",
       "24  ( 1 ) \"*\"          \"*\"        \"*\"         \"*\"       \"*\"       \"*\"      \n",
       "          BedroomAbvGr KitchenAbvGr TotRmsAbvGrd GarageArea WoodDeckSF\n",
       "1  ( 1 )  \" \"          \" \"          \" \"          \" \"        \" \"       \n",
       "2  ( 1 )  \" \"          \" \"          \" \"          \" \"        \" \"       \n",
       "3  ( 1 )  \" \"          \" \"          \" \"          \" \"        \" \"       \n",
       "4  ( 1 )  \" \"          \" \"          \" \"          \" \"        \" \"       \n",
       "5  ( 1 )  \" \"          \" \"          \" \"          \" \"        \" \"       \n",
       "6  ( 1 )  \" \"          \" \"          \" \"          \"*\"        \" \"       \n",
       "7  ( 1 )  \" \"          \" \"          \" \"          \"*\"        \" \"       \n",
       "8  ( 1 )  \" \"          \" \"          \" \"          \"*\"        \" \"       \n",
       "9  ( 1 )  \" \"          \" \"          \" \"          \"*\"        \" \"       \n",
       "10  ( 1 ) \" \"          \" \"          \" \"          \"*\"        \"*\"       \n",
       "11  ( 1 ) \" \"          \" \"          \" \"          \"*\"        \"*\"       \n",
       "12  ( 1 ) \" \"          \" \"          \" \"          \"*\"        \"*\"       \n",
       "13  ( 1 ) \" \"          \" \"          \" \"          \"*\"        \"*\"       \n",
       "14  ( 1 ) \" \"          \" \"          \"*\"          \"*\"        \"*\"       \n",
       "15  ( 1 ) \" \"          \"*\"          \"*\"          \"*\"        \"*\"       \n",
       "16  ( 1 ) \" \"          \"*\"          \"*\"          \"*\"        \"*\"       \n",
       "17  ( 1 ) \" \"          \"*\"          \"*\"          \"*\"        \"*\"       \n",
       "18  ( 1 ) \" \"          \"*\"          \"*\"          \"*\"        \"*\"       \n",
       "19  ( 1 ) \"*\"          \"*\"          \"*\"          \"*\"        \"*\"       \n",
       "20  ( 1 ) \"*\"          \"*\"          \"*\"          \"*\"        \"*\"       \n",
       "21  ( 1 ) \"*\"          \"*\"          \"*\"          \"*\"        \"*\"       \n",
       "22  ( 1 ) \"*\"          \"*\"          \"*\"          \"*\"        \"*\"       \n",
       "23  ( 1 ) \"*\"          \"*\"          \"*\"          \"*\"        \"*\"       \n",
       "24  ( 1 ) \"*\"          \"*\"          \"*\"          \"*\"        \"*\"       \n",
       "          OpenPorchSF EnclosedPorch X3SsnPorch ScreenPorch PoolArea MoSold\n",
       "1  ( 1 )  \" \"         \" \"           \" \"        \" \"         \" \"      \" \"   \n",
       "2  ( 1 )  \" \"         \" \"           \" \"        \" \"         \" \"      \" \"   \n",
       "3  ( 1 )  \" \"         \" \"           \" \"        \" \"         \" \"      \" \"   \n",
       "4  ( 1 )  \" \"         \" \"           \" \"        \" \"         \" \"      \" \"   \n",
       "5  ( 1 )  \" \"         \" \"           \" \"        \" \"         \" \"      \" \"   \n",
       "6  ( 1 )  \" \"         \" \"           \" \"        \" \"         \" \"      \" \"   \n",
       "7  ( 1 )  \" \"         \" \"           \" \"        \" \"         \" \"      \" \"   \n",
       "8  ( 1 )  \" \"         \" \"           \" \"        \" \"         \" \"      \" \"   \n",
       "9  ( 1 )  \" \"         \" \"           \" \"        \"*\"         \" \"      \" \"   \n",
       "10  ( 1 ) \" \"         \" \"           \" \"        \"*\"         \" \"      \" \"   \n",
       "11  ( 1 ) \" \"         \" \"           \" \"        \"*\"         \"*\"      \" \"   \n",
       "12  ( 1 ) \" \"         \" \"           \" \"        \"*\"         \"*\"      \" \"   \n",
       "13  ( 1 ) \" \"         \"*\"           \" \"        \"*\"         \"*\"      \" \"   \n",
       "14  ( 1 ) \" \"         \"*\"           \" \"        \"*\"         \"*\"      \" \"   \n",
       "15  ( 1 ) \" \"         \"*\"           \" \"        \"*\"         \"*\"      \" \"   \n",
       "16  ( 1 ) \" \"         \"*\"           \" \"        \"*\"         \"*\"      \" \"   \n",
       "17  ( 1 ) \" \"         \"*\"           \" \"        \"*\"         \"*\"      \" \"   \n",
       "18  ( 1 ) \" \"         \"*\"           \"*\"        \"*\"         \"*\"      \" \"   \n",
       "19  ( 1 ) \" \"         \"*\"           \"*\"        \"*\"         \"*\"      \" \"   \n",
       "20  ( 1 ) \" \"         \"*\"           \"*\"        \"*\"         \"*\"      \" \"   \n",
       "21  ( 1 ) \"*\"         \"*\"           \"*\"        \"*\"         \"*\"      \" \"   \n",
       "22  ( 1 ) \"*\"         \"*\"           \"*\"        \"*\"         \"*\"      \" \"   \n",
       "23  ( 1 ) \"*\"         \"*\"           \"*\"        \"*\"         \"*\"      \"*\"   \n",
       "24  ( 1 ) \"*\"         \"*\"           \"*\"        \"*\"         \"*\"      \"*\"   \n",
       "          YrSold\n",
       "1  ( 1 )  \" \"   \n",
       "2  ( 1 )  \" \"   \n",
       "3  ( 1 )  \" \"   \n",
       "4  ( 1 )  \" \"   \n",
       "5  ( 1 )  \" \"   \n",
       "6  ( 1 )  \" \"   \n",
       "7  ( 1 )  \" \"   \n",
       "8  ( 1 )  \" \"   \n",
       "9  ( 1 )  \" \"   \n",
       "10  ( 1 ) \" \"   \n",
       "11  ( 1 ) \" \"   \n",
       "12  ( 1 ) \" \"   \n",
       "13  ( 1 ) \" \"   \n",
       "14  ( 1 ) \" \"   \n",
       "15  ( 1 ) \" \"   \n",
       "16  ( 1 ) \" \"   \n",
       "17  ( 1 ) \"*\"   \n",
       "18  ( 1 ) \"*\"   \n",
       "19  ( 1 ) \"*\"   \n",
       "20  ( 1 ) \"*\"   \n",
       "21  ( 1 ) \"*\"   \n",
       "22  ( 1 ) \"*\"   \n",
       "23  ( 1 ) \"*\"   \n",
       "24  ( 1 ) \"*\"   "
      ]
     },
     "metadata": {},
     "output_type": "display_data"
    }
   ],
   "source": [
    "summary(regfit.fwd)"
   ]
  },
  {
   "cell_type": "markdown",
   "metadata": {},
   "source": [
    "### Model with Bacward Selection\n",
    "Reduce the predictors with backward selection. Choose one model which has minimum cross validation error"
   ]
  },
  {
   "cell_type": "code",
   "execution_count": 125,
   "metadata": {
    "collapsed": true
   },
   "outputs": [],
   "source": [
    "regfit.bcd = regsubsets(SalePrice ~ ., data = data_stdz, method = \"backward\", nvmax =26)\n",
    "regfitbcd.summary <- summary(regfit.bcd)"
   ]
  },
  {
   "cell_type": "code",
   "execution_count": 126,
   "metadata": {
    "collapsed": false
   },
   "outputs": [
    {
     "data": {
      "text/plain": [
       "Subset selection object\n",
       "Call: regsubsets.formula(SalePrice ~ ., data = data_stdz, method = \"backward\", \n",
       "    nvmax = 26)\n",
       "24 Variables  (and intercept)\n",
       "              Forced in Forced out\n",
       "MSSubClass        FALSE      FALSE\n",
       "LotFrontage       FALSE      FALSE\n",
       "LotArea           FALSE      FALSE\n",
       "OverallQual       FALSE      FALSE\n",
       "OverallCond       FALSE      FALSE\n",
       "YearBuilt         FALSE      FALSE\n",
       "YearRemodAdd      FALSE      FALSE\n",
       "MasVnrArea        FALSE      FALSE\n",
       "TotalBsmtSF       FALSE      FALSE\n",
       "X1stFlrSF         FALSE      FALSE\n",
       "X2ndFlrSF         FALSE      FALSE\n",
       "GrLivArea         FALSE      FALSE\n",
       "BedroomAbvGr      FALSE      FALSE\n",
       "KitchenAbvGr      FALSE      FALSE\n",
       "TotRmsAbvGrd      FALSE      FALSE\n",
       "GarageArea        FALSE      FALSE\n",
       "WoodDeckSF        FALSE      FALSE\n",
       "OpenPorchSF       FALSE      FALSE\n",
       "EnclosedPorch     FALSE      FALSE\n",
       "X3SsnPorch        FALSE      FALSE\n",
       "ScreenPorch       FALSE      FALSE\n",
       "PoolArea          FALSE      FALSE\n",
       "MoSold            FALSE      FALSE\n",
       "YrSold            FALSE      FALSE\n",
       "1 subsets of each size up to 24\n",
       "Selection Algorithm: backward\n",
       "          MSSubClass LotFrontage LotArea OverallQual OverallCond YearBuilt\n",
       "1  ( 1 )  \" \"        \" \"         \" \"     \"*\"         \" \"         \" \"      \n",
       "2  ( 1 )  \" \"        \" \"         \" \"     \"*\"         \" \"         \" \"      \n",
       "3  ( 1 )  \" \"        \" \"         \" \"     \"*\"         \" \"         \"*\"      \n",
       "4  ( 1 )  \" \"        \" \"         \" \"     \"*\"         \"*\"         \"*\"      \n",
       "5  ( 1 )  \" \"        \" \"         \" \"     \"*\"         \"*\"         \"*\"      \n",
       "6  ( 1 )  \" \"        \" \"         \" \"     \"*\"         \"*\"         \"*\"      \n",
       "7  ( 1 )  \" \"        \" \"         \"*\"     \"*\"         \"*\"         \"*\"      \n",
       "8  ( 1 )  \"*\"        \" \"         \"*\"     \"*\"         \"*\"         \"*\"      \n",
       "9  ( 1 )  \"*\"        \" \"         \"*\"     \"*\"         \"*\"         \"*\"      \n",
       "10  ( 1 ) \"*\"        \" \"         \"*\"     \"*\"         \"*\"         \"*\"      \n",
       "11  ( 1 ) \"*\"        \" \"         \"*\"     \"*\"         \"*\"         \"*\"      \n",
       "12  ( 1 ) \"*\"        \" \"         \"*\"     \"*\"         \"*\"         \"*\"      \n",
       "13  ( 1 ) \"*\"        \" \"         \"*\"     \"*\"         \"*\"         \"*\"      \n",
       "14  ( 1 ) \"*\"        \" \"         \"*\"     \"*\"         \"*\"         \"*\"      \n",
       "15  ( 1 ) \"*\"        \" \"         \"*\"     \"*\"         \"*\"         \"*\"      \n",
       "16  ( 1 ) \"*\"        \" \"         \"*\"     \"*\"         \"*\"         \"*\"      \n",
       "17  ( 1 ) \"*\"        \" \"         \"*\"     \"*\"         \"*\"         \"*\"      \n",
       "18  ( 1 ) \"*\"        \" \"         \"*\"     \"*\"         \"*\"         \"*\"      \n",
       "19  ( 1 ) \"*\"        \" \"         \"*\"     \"*\"         \"*\"         \"*\"      \n",
       "20  ( 1 ) \"*\"        \" \"         \"*\"     \"*\"         \"*\"         \"*\"      \n",
       "21  ( 1 ) \"*\"        \" \"         \"*\"     \"*\"         \"*\"         \"*\"      \n",
       "22  ( 1 ) \"*\"        \"*\"         \"*\"     \"*\"         \"*\"         \"*\"      \n",
       "23  ( 1 ) \"*\"        \"*\"         \"*\"     \"*\"         \"*\"         \"*\"      \n",
       "24  ( 1 ) \"*\"        \"*\"         \"*\"     \"*\"         \"*\"         \"*\"      \n",
       "          YearRemodAdd MasVnrArea TotalBsmtSF X1stFlrSF X2ndFlrSF GrLivArea\n",
       "1  ( 1 )  \" \"          \" \"        \" \"         \" \"       \" \"       \" \"      \n",
       "2  ( 1 )  \" \"          \" \"        \" \"         \" \"       \" \"       \"*\"      \n",
       "3  ( 1 )  \" \"          \" \"        \" \"         \" \"       \" \"       \"*\"      \n",
       "4  ( 1 )  \" \"          \" \"        \" \"         \" \"       \" \"       \"*\"      \n",
       "5  ( 1 )  \" \"          \" \"        \"*\"         \" \"       \" \"       \"*\"      \n",
       "6  ( 1 )  \" \"          \" \"        \"*\"         \" \"       \" \"       \"*\"      \n",
       "7  ( 1 )  \" \"          \" \"        \"*\"         \" \"       \" \"       \"*\"      \n",
       "8  ( 1 )  \" \"          \" \"        \"*\"         \" \"       \" \"       \"*\"      \n",
       "9  ( 1 )  \" \"          \" \"        \"*\"         \" \"       \" \"       \"*\"      \n",
       "10  ( 1 ) \" \"          \" \"        \"*\"         \" \"       \" \"       \"*\"      \n",
       "11  ( 1 ) \" \"          \" \"        \"*\"         \" \"       \" \"       \"*\"      \n",
       "12  ( 1 ) \"*\"          \" \"        \"*\"         \" \"       \" \"       \"*\"      \n",
       "13  ( 1 ) \"*\"          \" \"        \"*\"         \" \"       \" \"       \"*\"      \n",
       "14  ( 1 ) \"*\"          \" \"        \"*\"         \" \"       \" \"       \"*\"      \n",
       "15  ( 1 ) \"*\"          \" \"        \"*\"         \" \"       \" \"       \"*\"      \n",
       "16  ( 1 ) \"*\"          \" \"        \"*\"         \"*\"       \" \"       \"*\"      \n",
       "17  ( 1 ) \"*\"          \" \"        \"*\"         \"*\"       \" \"       \"*\"      \n",
       "18  ( 1 ) \"*\"          \" \"        \"*\"         \"*\"       \" \"       \"*\"      \n",
       "19  ( 1 ) \"*\"          \" \"        \"*\"         \"*\"       \" \"       \"*\"      \n",
       "20  ( 1 ) \"*\"          \" \"        \"*\"         \"*\"       \"*\"       \"*\"      \n",
       "21  ( 1 ) \"*\"          \" \"        \"*\"         \"*\"       \"*\"       \"*\"      \n",
       "22  ( 1 ) \"*\"          \" \"        \"*\"         \"*\"       \"*\"       \"*\"      \n",
       "23  ( 1 ) \"*\"          \" \"        \"*\"         \"*\"       \"*\"       \"*\"      \n",
       "24  ( 1 ) \"*\"          \"*\"        \"*\"         \"*\"       \"*\"       \"*\"      \n",
       "          BedroomAbvGr KitchenAbvGr TotRmsAbvGrd GarageArea WoodDeckSF\n",
       "1  ( 1 )  \" \"          \" \"          \" \"          \" \"        \" \"       \n",
       "2  ( 1 )  \" \"          \" \"          \" \"          \" \"        \" \"       \n",
       "3  ( 1 )  \" \"          \" \"          \" \"          \" \"        \" \"       \n",
       "4  ( 1 )  \" \"          \" \"          \" \"          \" \"        \" \"       \n",
       "5  ( 1 )  \" \"          \" \"          \" \"          \" \"        \" \"       \n",
       "6  ( 1 )  \" \"          \" \"          \" \"          \"*\"        \" \"       \n",
       "7  ( 1 )  \" \"          \" \"          \" \"          \"*\"        \" \"       \n",
       "8  ( 1 )  \" \"          \" \"          \" \"          \"*\"        \" \"       \n",
       "9  ( 1 )  \" \"          \" \"          \" \"          \"*\"        \" \"       \n",
       "10  ( 1 ) \" \"          \" \"          \" \"          \"*\"        \"*\"       \n",
       "11  ( 1 ) \" \"          \" \"          \" \"          \"*\"        \"*\"       \n",
       "12  ( 1 ) \" \"          \" \"          \" \"          \"*\"        \"*\"       \n",
       "13  ( 1 ) \" \"          \" \"          \" \"          \"*\"        \"*\"       \n",
       "14  ( 1 ) \" \"          \" \"          \"*\"          \"*\"        \"*\"       \n",
       "15  ( 1 ) \" \"          \"*\"          \"*\"          \"*\"        \"*\"       \n",
       "16  ( 1 ) \" \"          \"*\"          \"*\"          \"*\"        \"*\"       \n",
       "17  ( 1 ) \" \"          \"*\"          \"*\"          \"*\"        \"*\"       \n",
       "18  ( 1 ) \" \"          \"*\"          \"*\"          \"*\"        \"*\"       \n",
       "19  ( 1 ) \"*\"          \"*\"          \"*\"          \"*\"        \"*\"       \n",
       "20  ( 1 ) \"*\"          \"*\"          \"*\"          \"*\"        \"*\"       \n",
       "21  ( 1 ) \"*\"          \"*\"          \"*\"          \"*\"        \"*\"       \n",
       "22  ( 1 ) \"*\"          \"*\"          \"*\"          \"*\"        \"*\"       \n",
       "23  ( 1 ) \"*\"          \"*\"          \"*\"          \"*\"        \"*\"       \n",
       "24  ( 1 ) \"*\"          \"*\"          \"*\"          \"*\"        \"*\"       \n",
       "          OpenPorchSF EnclosedPorch X3SsnPorch ScreenPorch PoolArea MoSold\n",
       "1  ( 1 )  \" \"         \" \"           \" \"        \" \"         \" \"      \" \"   \n",
       "2  ( 1 )  \" \"         \" \"           \" \"        \" \"         \" \"      \" \"   \n",
       "3  ( 1 )  \" \"         \" \"           \" \"        \" \"         \" \"      \" \"   \n",
       "4  ( 1 )  \" \"         \" \"           \" \"        \" \"         \" \"      \" \"   \n",
       "5  ( 1 )  \" \"         \" \"           \" \"        \" \"         \" \"      \" \"   \n",
       "6  ( 1 )  \" \"         \" \"           \" \"        \" \"         \" \"      \" \"   \n",
       "7  ( 1 )  \" \"         \" \"           \" \"        \" \"         \" \"      \" \"   \n",
       "8  ( 1 )  \" \"         \" \"           \" \"        \" \"         \" \"      \" \"   \n",
       "9  ( 1 )  \" \"         \" \"           \" \"        \"*\"         \" \"      \" \"   \n",
       "10  ( 1 ) \" \"         \" \"           \" \"        \"*\"         \" \"      \" \"   \n",
       "11  ( 1 ) \" \"         \" \"           \" \"        \"*\"         \"*\"      \" \"   \n",
       "12  ( 1 ) \" \"         \" \"           \" \"        \"*\"         \"*\"      \" \"   \n",
       "13  ( 1 ) \" \"         \"*\"           \" \"        \"*\"         \"*\"      \" \"   \n",
       "14  ( 1 ) \" \"         \"*\"           \" \"        \"*\"         \"*\"      \" \"   \n",
       "15  ( 1 ) \" \"         \"*\"           \" \"        \"*\"         \"*\"      \" \"   \n",
       "16  ( 1 ) \" \"         \"*\"           \" \"        \"*\"         \"*\"      \" \"   \n",
       "17  ( 1 ) \" \"         \"*\"           \" \"        \"*\"         \"*\"      \" \"   \n",
       "18  ( 1 ) \" \"         \"*\"           \"*\"        \"*\"         \"*\"      \" \"   \n",
       "19  ( 1 ) \" \"         \"*\"           \"*\"        \"*\"         \"*\"      \" \"   \n",
       "20  ( 1 ) \" \"         \"*\"           \"*\"        \"*\"         \"*\"      \" \"   \n",
       "21  ( 1 ) \"*\"         \"*\"           \"*\"        \"*\"         \"*\"      \" \"   \n",
       "22  ( 1 ) \"*\"         \"*\"           \"*\"        \"*\"         \"*\"      \" \"   \n",
       "23  ( 1 ) \"*\"         \"*\"           \"*\"        \"*\"         \"*\"      \"*\"   \n",
       "24  ( 1 ) \"*\"         \"*\"           \"*\"        \"*\"         \"*\"      \"*\"   \n",
       "          YrSold\n",
       "1  ( 1 )  \" \"   \n",
       "2  ( 1 )  \" \"   \n",
       "3  ( 1 )  \" \"   \n",
       "4  ( 1 )  \" \"   \n",
       "5  ( 1 )  \" \"   \n",
       "6  ( 1 )  \" \"   \n",
       "7  ( 1 )  \" \"   \n",
       "8  ( 1 )  \" \"   \n",
       "9  ( 1 )  \" \"   \n",
       "10  ( 1 ) \" \"   \n",
       "11  ( 1 ) \" \"   \n",
       "12  ( 1 ) \" \"   \n",
       "13  ( 1 ) \" \"   \n",
       "14  ( 1 ) \" \"   \n",
       "15  ( 1 ) \" \"   \n",
       "16  ( 1 ) \" \"   \n",
       "17  ( 1 ) \"*\"   \n",
       "18  ( 1 ) \"*\"   \n",
       "19  ( 1 ) \"*\"   \n",
       "20  ( 1 ) \"*\"   \n",
       "21  ( 1 ) \"*\"   \n",
       "22  ( 1 ) \"*\"   \n",
       "23  ( 1 ) \"*\"   \n",
       "24  ( 1 ) \"*\"   "
      ]
     },
     "metadata": {},
     "output_type": "display_data"
    }
   ],
   "source": [
    "summary(regfit.bcd)"
   ]
  },
  {
   "cell_type": "markdown",
   "metadata": {},
   "source": [
    "### Model with Lasso Regressions\n",
    "Create Lasso Regression Model with lambda that gives minimum cross validation error"
   ]
  },
  {
   "cell_type": "code",
   "execution_count": 127,
   "metadata": {
    "collapsed": false
   },
   "outputs": [
    {
     "name": "stderr",
     "output_type": "stream",
     "text": [
      "Loading required package: Matrix\n",
      "Loading required package: foreach\n",
      "Loaded glmnet 2.0-5\n",
      "\n"
     ]
    }
   ],
   "source": [
    "library(glmnet)"
   ]
  },
  {
   "cell_type": "code",
   "execution_count": 128,
   "metadata": {
    "collapsed": true
   },
   "outputs": [],
   "source": [
    "x = model.matrix(SalePrice ~ ., data_stdz)[, -1]\n",
    "y = data_stdz$SalePrice"
   ]
  },
  {
   "cell_type": "code",
   "execution_count": 129,
   "metadata": {
    "collapsed": true
   },
   "outputs": [],
   "source": [
    "grid = c(10000, 3000, 1000, 300, 100, 30, 10, 3, 1, 0.3, 0.1,0.03,0.01,0.003,0.001,0.0003,0.0001)\n",
    "lasso.mod = glmnet(x, y, alpha = 1, lambda = grid, standardize = FALSE) # LASSO alpha 1, RIDGE alpha 0\n",
    "# lakukan terlebih dahulu standardize"
   ]
  },
  {
   "cell_type": "code",
   "execution_count": 130,
   "metadata": {
    "collapsed": false
   },
   "outputs": [
    {
     "data": {
      "text/plain": [
       "\n",
       "Call:  glmnet(x = x, y = y, alpha = 1, lambda = grid, standardize = FALSE) \n",
       "\n",
       "      Df   %Dev Lambda\n",
       " [1,]  0 0.0000  1e+04\n",
       " [2,]  0 0.0000  3e+03\n",
       " [3,]  0 0.0000  1e+03\n",
       " [4,]  0 0.0000  3e+02\n",
       " [5,]  0 0.0000  1e+02\n",
       " [6,]  0 0.0000  3e+01\n",
       " [7,]  0 0.0000  1e+01\n",
       " [8,]  0 0.0000  3e+00\n",
       " [9,]  0 0.0000  1e+00\n",
       "[10,]  0 0.0000  3e-01\n",
       "[11,]  2 0.4248  1e-01\n",
       "[12,]  7 0.7719  3e-02\n",
       "[13,] 12 0.8317  1e-02\n",
       "[14,] 17 0.8488  3e-03\n",
       "[15,] 19 0.8515  1e-03\n",
       "[16,] 24 0.8520  3e-04\n",
       "[17,] 24 0.8522  1e-04"
      ]
     },
     "metadata": {},
     "output_type": "display_data"
    }
   ],
   "source": [
    "lasso.mod"
   ]
  },
  {
   "cell_type": "code",
   "execution_count": 131,
   "metadata": {
    "collapsed": true
   },
   "outputs": [],
   "source": [
    "train = sample(c(TRUE, FALSE), nrow(data_housing), rep = TRUE)\n",
    "test = (!train)"
   ]
  },
  {
   "cell_type": "code",
   "execution_count": 132,
   "metadata": {
    "collapsed": true
   },
   "outputs": [],
   "source": [
    "y.test = y[test]"
   ]
  },
  {
   "cell_type": "code",
   "execution_count": 133,
   "metadata": {
    "collapsed": true
   },
   "outputs": [],
   "source": [
    "grid = c(10000, 3000, 1000, 300, 100, 30, 10, 3, 1, 0.3, 0.1,0.03,0.01,0.003,0.001,0.0003,0.0001)\n",
    "lasso.mod = glmnet(x[train, ], y[train], alpha = 1, lambda = grid, standardize = FALSE)"
   ]
  },
  {
   "cell_type": "code",
   "execution_count": 134,
   "metadata": {
    "collapsed": true
   },
   "outputs": [],
   "source": [
    "lasso.score <- rep(NA, length(grid))\n",
    "for (i in 1:length(grid)){\n",
    "    lasso.pred = predict(lasso.mod, s = grid[i], newx = x[test, ])\n",
    "    lasso.score[i] = mean((lasso.pred - y.test)^2)\n",
    "}"
   ]
  },
  {
   "cell_type": "code",
   "execution_count": 135,
   "metadata": {
    "collapsed": true
   },
   "outputs": [],
   "source": [
    "set.seed(1)\n",
    "lasso.cv = cv.glmnet(x, y, alpha = 1, lambda = grid, standardize = FALSE)\n",
    "bestlam = lasso.cv$lambda.min"
   ]
  },
  {
   "cell_type": "code",
   "execution_count": 136,
   "metadata": {
    "collapsed": false
   },
   "outputs": [
    {
     "data": {
      "text/html": [
       "<ol class=list-inline>\n",
       "\t<li>10000</li>\n",
       "\t<li>3000</li>\n",
       "\t<li>1000</li>\n",
       "\t<li>300</li>\n",
       "\t<li>100</li>\n",
       "\t<li>30</li>\n",
       "\t<li>10</li>\n",
       "\t<li>3</li>\n",
       "\t<li>1</li>\n",
       "\t<li>0.3</li>\n",
       "\t<li>0.1</li>\n",
       "\t<li>0.03</li>\n",
       "\t<li>0.01</li>\n",
       "\t<li>0.003</li>\n",
       "\t<li>0.001</li>\n",
       "\t<li>3e-04</li>\n",
       "\t<li>1e-04</li>\n",
       "</ol>\n"
      ],
      "text/latex": [
       "\\begin{enumerate*}\n",
       "\\item 10000\n",
       "\\item 3000\n",
       "\\item 1000\n",
       "\\item 300\n",
       "\\item 100\n",
       "\\item 30\n",
       "\\item 10\n",
       "\\item 3\n",
       "\\item 1\n",
       "\\item 0.3\n",
       "\\item 0.1\n",
       "\\item 0.03\n",
       "\\item 0.01\n",
       "\\item 0.003\n",
       "\\item 0.001\n",
       "\\item 3e-04\n",
       "\\item 1e-04\n",
       "\\end{enumerate*}\n"
      ],
      "text/markdown": [
       "1. 10000\n",
       "2. 3000\n",
       "3. 1000\n",
       "4. 300\n",
       "5. 100\n",
       "6. 30\n",
       "7. 10\n",
       "8. 3\n",
       "9. 1\n",
       "10. 0.3\n",
       "11. 0.1\n",
       "12. 0.03\n",
       "13. 0.01\n",
       "14. 0.003\n",
       "15. 0.001\n",
       "16. 3e-04\n",
       "17. 1e-04\n",
       "\n",
       "\n"
      ],
      "text/plain": [
       " [1] 1e+04 3e+03 1e+03 3e+02 1e+02 3e+01 1e+01 3e+00 1e+00 3e-01 1e-01 3e-02\n",
       "[13] 1e-02 3e-03 1e-03 3e-04 1e-04"
      ]
     },
     "metadata": {},
     "output_type": "display_data"
    }
   ],
   "source": [
    "lasso.cv$lambda"
   ]
  },
  {
   "cell_type": "code",
   "execution_count": 137,
   "metadata": {
    "collapsed": false
   },
   "outputs": [
    {
     "data": {
      "text/plain": [
       "NULL"
      ]
     },
     "metadata": {},
     "output_type": "display_data"
    }
   ],
   "source": [
    "lasso.cv$CVM"
   ]
  },
  {
   "cell_type": "code",
   "execution_count": 138,
   "metadata": {
    "collapsed": false
   },
   "outputs": [
    {
     "data": {
      "text/html": [
       "0.003"
      ],
      "text/latex": [
       "0.003"
      ],
      "text/markdown": [
       "0.003"
      ],
      "text/plain": [
       "[1] 0.003"
      ]
     },
     "metadata": {},
     "output_type": "display_data"
    }
   ],
   "source": [
    "bestlam"
   ]
  },
  {
   "cell_type": "code",
   "execution_count": 139,
   "metadata": {
    "collapsed": true
   },
   "outputs": [],
   "source": [
    "lasso.best = glmnet(x, y, alpha = 1, lambda = bestlam, standardize = FALSE)"
   ]
  },
  {
   "cell_type": "code",
   "execution_count": 140,
   "metadata": {
    "collapsed": false
   },
   "outputs": [
    {
     "data": {
      "text/plain": [
       "24 x 1 sparse Matrix of class \"dgCMatrix\"\n",
       "                        s0\n",
       "MSSubClass    -0.030770178\n",
       "LotFrontage    .          \n",
       "LotArea        0.047272222\n",
       "OverallQual    0.260296806\n",
       "OverallCond    0.090604788\n",
       "YearBuilt      0.183378969\n",
       "YearRemodAdd   0.045470805\n",
       "MasVnrArea     .          \n",
       "TotalBsmtSF    0.057487658\n",
       "X1stFlrSF      0.031567559\n",
       "X2ndFlrSF      .          \n",
       "GrLivArea      0.221554275\n",
       "BedroomAbvGr   .          \n",
       "KitchenAbvGr  -0.018878114\n",
       "TotRmsAbvGrd   0.029791781\n",
       "GarageArea     0.091542201\n",
       "WoodDeckSF     0.035151796\n",
       "OpenPorchSF    .          \n",
       "EnclosedPorch  .          \n",
       "X3SsnPorch     0.001775991\n",
       "ScreenPorch    0.037019994\n",
       "PoolArea      -0.015674376\n",
       "MoSold         .          \n",
       "YrSold        -0.002370010"
      ]
     },
     "metadata": {},
     "output_type": "display_data"
    }
   ],
   "source": [
    "lasso.best$beta"
   ]
  },
  {
   "cell_type": "code",
   "execution_count": 145,
   "metadata": {
    "collapsed": false
   },
   "outputs": [
    {
     "data": {
      "text/html": [
       "<strong>s0:</strong> 12.0240509011094"
      ],
      "text/latex": [
       "\\textbf{s0:} 12.0240509011094"
      ],
      "text/markdown": [
       "**s0:** 12.0240509011094"
      ],
      "text/plain": [
       "      s0 \n",
       "12.02405 "
      ]
     },
     "metadata": {},
     "output_type": "display_data"
    }
   ],
   "source": [
    "lasso.best$a0"
   ]
  },
  {
   "cell_type": "code",
   "execution_count": 177,
   "metadata": {
    "collapsed": false
   },
   "outputs": [
    {
     "data": {
      "text/html": [
       "0.848764600654728"
      ],
      "text/latex": [
       "0.848764600654728"
      ],
      "text/markdown": [
       "0.848764600654728"
      ],
      "text/plain": [
       "[1] 0.8487646"
      ]
     },
     "metadata": {},
     "output_type": "display_data"
    }
   ],
   "source": [
    "lasso.best$dev.ratio"
   ]
  },
  {
   "cell_type": "markdown",
   "metadata": {},
   "source": [
    "Compare the models form all variable selection methods"
   ]
  },
  {
   "cell_type": "code",
   "execution_count": 178,
   "metadata": {
    "collapsed": false
   },
   "outputs": [
    {
     "data": {
      "text/html": [
       "0.848764600654728"
      ],
      "text/latex": [
       "0.848764600654728"
      ],
      "text/markdown": [
       "0.848764600654728"
      ],
      "text/plain": [
       "[1] 0.8487646"
      ]
     },
     "metadata": {},
     "output_type": "display_data"
    }
   ],
   "source": [
    "lasso.best$dev.ratio"
   ]
  },
  {
   "cell_type": "code",
   "execution_count": 179,
   "metadata": {
    "collapsed": false
   },
   "outputs": [
    {
     "data": {
      "text/html": [
       "0.849750987760786"
      ],
      "text/latex": [
       "0.849750987760786"
      ],
      "text/markdown": [
       "0.849750987760786"
      ],
      "text/plain": [
       "[1] 0.849751"
      ]
     },
     "metadata": {},
     "output_type": "display_data"
    }
   ],
   "source": [
    "r.squared.adj.linear <- summary(model)\n",
    "r.squared.adj.linear$adj.r.squared"
   ]
  },
  {
   "cell_type": "markdown",
   "metadata": {},
   "source": [
    "    compare R square adjusted model satu dengan lainnya\n",
    "    berdasarkan compare R squared adj regressions linear dengan lasso, \n",
    "    terlihat regressions linear lebih tinggi.\n",
    "    Maka untuk data housing ini, regresi linear lebih baik dibandingkan dengan yang lainnya"
   ]
  },
  {
   "cell_type": "code",
   "execution_count": null,
   "metadata": {
    "collapsed": true
   },
   "outputs": [],
   "source": []
  }
 ],
 "metadata": {
  "kernelspec": {
   "display_name": "R",
   "language": "R",
   "name": "ir"
  },
  "language_info": {
   "codemirror_mode": "r",
   "file_extension": ".r",
   "mimetype": "text/x-r-source",
   "name": "R",
   "pygments_lexer": "r",
   "version": "3.3.2"
  }
 },
 "nbformat": 4,
 "nbformat_minor": 2
}
